{
 "cells": [
  {
   "cell_type": "markdown",
   "id": "5a204dd0",
   "metadata": {},
   "source": [
    "## Split data into train and test"
   ]
  },
  {
   "cell_type": "code",
   "execution_count": 7,
   "id": "5a11a1b1",
   "metadata": {},
   "outputs": [
    {
     "name": "stderr",
     "output_type": "stream",
     "text": [
      "Copying files: 3144 files [02:22, 22.10 files/s]\n"
     ]
    }
   ],
   "source": [
    "import splitfolders # or import splitfolders\n",
    "input_folder = \"E:/projects/DFL-BundesligaDataShootout/dataset-20220903T082147Z-001/events-splitted-data/\"\n",
    "output = \"E:/projects/DFL-BundesligaDataShootout/dataset-20220903T082147Z-001/ready-data/\" #where you want the split datasets saved. one will be created if it does not exist or none is set\n",
    "\n",
    "splitfolders.ratio(input_folder, output=output, seed=42, ratio=(.7, .3)) # ratio of split are in order of train/val/test. You can change to whatever you want. For train/val sets only, you could do .75, .25 for example."
   ]
  },
  {
   "cell_type": "code",
   "execution_count": 3,
   "id": "ef1def18",
   "metadata": {},
   "outputs": [],
   "source": [
    "train_path='E:/projects/DFL-BundesligaDataShootout/dataset-20220903T082147Z-001/ready-data/train'\n",
    "val_path='E:/projects/DFL-BundesligaDataShootout/dataset-20220903T082147Z-001/ready-data/val'"
   ]
  },
  {
   "cell_type": "code",
   "execution_count": 54,
   "id": "23f99064",
   "metadata": {},
   "outputs": [],
   "source": [
    "from keras.models import Model\n",
    "import tensorflow as tf\n",
    "from keras.applications.vgg16 import VGG16\n",
    "from keras.applications.vgg16 import preprocess_input\n",
    "from keras_preprocessing import image\n",
    "from keras_preprocessing.image import ImageDataGenerator\n",
    "from keras.models import Sequential\n",
    "import numpy as np\n",
    "from glob import glob"
   ]
  },
  {
   "cell_type": "code",
   "execution_count": 42,
   "id": "3db56213",
   "metadata": {},
   "outputs": [],
   "source": [
    "import matplotlib.pyplot as plt"
   ]
  },
  {
   "cell_type": "code",
   "execution_count": 5,
   "id": "6187c6a1",
   "metadata": {},
   "outputs": [],
   "source": [
    "def train_val_generators(TRAINING_DIR, VALIDATION_DIR):\n",
    "\n",
    "    train_datagen = ImageDataGenerator(rescale=1./255,\n",
    "                                         rotation_range=0.4,\n",
    "                                         zoom_range=0.2,\n",
    "                                         width_shift_range=0.2,\n",
    "                                         height_shift_range=0.2,\n",
    "                                         shear_range=0.2,\n",
    "                                         horizontal_flip=True,\n",
    "                                         brightness_range=[0.6,0.9],\n",
    "                                         fill_mode='nearest')\n",
    "\n",
    "    train_generator = train_datagen.flow_from_directory(directory=TRAINING_DIR,\n",
    "                                                          batch_size=64,\n",
    "                                                          class_mode='categorical',\n",
    "                                                          target_size=(224, 224))\n",
    "\n",
    "    validation_datagen = ImageDataGenerator(rescale=1./255)\n",
    "\n",
    "    validation_generator = validation_datagen.flow_from_directory(directory=VALIDATION_DIR,\n",
    "                                                                    batch_size=64,\n",
    "                                                                    class_mode='categorical',\n",
    "                                                                    target_size=(224, 224))\n",
    "    return train_generator, validation_generator"
   ]
  },
  {
   "cell_type": "code",
   "execution_count": 6,
   "id": "d7d59ca9",
   "metadata": {},
   "outputs": [
    {
     "name": "stdout",
     "output_type": "stream",
     "text": [
      "Found 2199 images belonging to 3 classes.\n",
      "Found 945 images belonging to 3 classes.\n"
     ]
    }
   ],
   "source": [
    "train_generator, validation_generator = train_val_generators(train_path, val_path)"
   ]
  },
  {
   "cell_type": "code",
   "execution_count": 36,
   "id": "ef18c4e0",
   "metadata": {},
   "outputs": [],
   "source": [
    "    \n",
    "\n",
    "model = tf.keras.models.Sequential([ \n",
    "      tf.keras.layers.Conv2D(32,(3,3),activation='relu'),\n",
    "      tf.keras.layers.MaxPooling2D(2,2),\n",
    "      tf.keras.layers.BatchNormalization(),\n",
    "      tf.keras.layers.Dropout(0.2),\n",
    "\n",
    "      tf.keras.layers.Conv2D(64,(3,3),activation='relu'),\n",
    "      tf.keras.layers.MaxPooling2D(2,2),\n",
    "      tf.keras.layers.Dropout(0.2),\n",
    "\n",
    "      tf.keras.layers.Conv2D(128,(3,3),activation='relu'),\n",
    "      tf.keras.layers.MaxPooling2D(2,2),\n",
    "      tf.keras.layers.Dropout(0.2),\n",
    "\n",
    "      tf.keras.layers.Flatten(),\n",
    "      tf.keras.layers.Dense(512,activation='relu'),\n",
    "      tf.keras.layers.Dropout(0.5),\n",
    "      tf.keras.layers.Dense(128,activation='relu'),\n",
    "      tf.keras.layers.Dense(3,activation='softmax')  \n",
    "  ])\n",
    "\n",
    "\n",
    "model.compile(optimizer='adam',\n",
    "                loss='CategoricalCrossentropy',\n",
    "                metrics=['accuracy']) \n",
    "\n",
    "\n"
   ]
  },
  {
   "cell_type": "code",
   "execution_count": 37,
   "id": "cced8859",
   "metadata": {},
   "outputs": [],
   "source": [
    "# model = cnn_model"
   ]
  },
  {
   "cell_type": "code",
   "execution_count": 38,
   "id": "40b9ebeb",
   "metadata": {},
   "outputs": [
    {
     "name": "stdout",
     "output_type": "stream",
     "text": [
      "Model: \"sequential_7\"\n",
      "_________________________________________________________________\n",
      " Layer (type)                Output Shape              Param #   \n",
      "=================================================================\n",
      " conv2d_21 (Conv2D)          (None, 222, 222, 32)      896       \n",
      "                                                                 \n",
      " max_pooling2d_21 (MaxPoolin  (None, 111, 111, 32)     0         \n",
      " g2D)                                                            \n",
      "                                                                 \n",
      " batch_normalization_7 (Batc  (None, 111, 111, 32)     128       \n",
      " hNormalization)                                                 \n",
      "                                                                 \n",
      " dropout_28 (Dropout)        (None, 111, 111, 32)      0         \n",
      "                                                                 \n",
      " conv2d_22 (Conv2D)          (None, 109, 109, 64)      18496     \n",
      "                                                                 \n",
      " max_pooling2d_22 (MaxPoolin  (None, 54, 54, 64)       0         \n",
      " g2D)                                                            \n",
      "                                                                 \n",
      " dropout_29 (Dropout)        (None, 54, 54, 64)        0         \n",
      "                                                                 \n",
      " conv2d_23 (Conv2D)          (None, 52, 52, 128)       73856     \n",
      "                                                                 \n",
      " max_pooling2d_23 (MaxPoolin  (None, 26, 26, 128)      0         \n",
      " g2D)                                                            \n",
      "                                                                 \n",
      " dropout_30 (Dropout)        (None, 26, 26, 128)       0         \n",
      "                                                                 \n",
      " flatten_7 (Flatten)         (None, 86528)             0         \n",
      "                                                                 \n",
      " dense_21 (Dense)            (None, 512)               44302848  \n",
      "                                                                 \n",
      " dropout_31 (Dropout)        (None, 512)               0         \n",
      "                                                                 \n",
      " dense_22 (Dense)            (None, 128)               65664     \n",
      "                                                                 \n",
      " dense_23 (Dense)            (None, 3)                 387       \n",
      "                                                                 \n",
      "=================================================================\n",
      "Total params: 44,462,275\n",
      "Trainable params: 44,462,211\n",
      "Non-trainable params: 64\n",
      "_________________________________________________________________\n"
     ]
    }
   ],
   "source": [
    "model.build((None,224,224,3))\n",
    "model.summary()"
   ]
  },
  {
   "cell_type": "code",
   "execution_count": 40,
   "id": "6c7429e9",
   "metadata": {},
   "outputs": [
    {
     "name": "stdout",
     "output_type": "stream",
     "text": [
      "Epoch 1/5\n",
      "35/35 [==============================] - 255s 7s/step - loss: 0.6034 - accuracy: 0.8167 - val_loss: 0.9789 - val_accuracy: 0.8159\n",
      "Epoch 2/5\n",
      "35/35 [==============================] - 242s 7s/step - loss: 0.5933 - accuracy: 0.8167 - val_loss: 0.8836 - val_accuracy: 0.8159\n",
      "Epoch 3/5\n",
      "35/35 [==============================] - 242s 7s/step - loss: 0.5840 - accuracy: 0.8167 - val_loss: 0.9568 - val_accuracy: 0.8159\n",
      "Epoch 4/5\n",
      "35/35 [==============================] - 241s 7s/step - loss: 0.6049 - accuracy: 0.8167 - val_loss: 0.8136 - val_accuracy: 0.8159\n",
      "Epoch 5/5\n",
      "35/35 [==============================] - 947s 28s/step - loss: 0.6066 - accuracy: 0.8167 - val_loss: 0.8275 - val_accuracy: 0.8159\n"
     ]
    }
   ],
   "source": [
    "history = model.fit(train_generator,\n",
    "                    epochs=5,\n",
    "                    verbose=True,\n",
    "                    validation_data=validation_generator)"
   ]
  },
  {
   "cell_type": "code",
   "execution_count": 45,
   "id": "d06dec2f",
   "metadata": {},
   "outputs": [
    {
     "data": {
      "image/png": "[encoded data removed]",
      "text/plain": [
       "<Figure size 432x288 with 1 Axes>"
      ]
     },
     "metadata": {
      "needs_background": "light"
     },
     "output_type": "display_data"
    },
    {
     "name": "stdout",
     "output_type": "stream",
     "text": [
      "\n"
     ]
    },
    {
     "data": {
      "image/png": "[encoded data removed]",
      "text/plain": [
       "<Figure size 432x288 with 1 Axes>"
      ]
     },
     "metadata": {
      "needs_background": "light"
     },
     "output_type": "display_data"
    }
   ],
   "source": [
    "def plot_acc_loss(model_his):\n",
    "    acc=model_his.history['accuracy']\n",
    "    val_acc=model_his.history['val_accuracy']\n",
    "    loss=model_his.history['loss']\n",
    "    val_loss=model_his.history['val_loss']\n",
    "\n",
    "    epochs=range(len(acc)) # Get number of epochs\n",
    "\n",
    "    #------------------------------------------------\n",
    "    # Plot training and validation accuracy per epoch\n",
    "    #------------------------------------------------\n",
    "    plt.plot(epochs, acc, 'r', \"Training Accuracy\")\n",
    "    plt.plot(epochs, val_acc, 'b', \"Validation Accuracy\")\n",
    "    plt.title('Training and validation accuracy')\n",
    "    plt.show()\n",
    "    print(\"\")\n",
    "\n",
    "    #------------------------------------------------\n",
    "    # Plot training and validation loss per epoch\n",
    "    #------------------------------------------------\n",
    "    plt.plot(epochs, loss, 'r', \"Training Loss\")\n",
    "    plt.plot(epochs, val_loss, 'b', \"Validation Loss\")\n",
    "    plt.show()\n"
   ]
  },
  {
   "cell_type": "code",
   "execution_count": null,
   "id": "4f2759ef",
   "metadata": {},
   "outputs": [],
   "source": [
    "plot_loss_acc(history)"
   ]
  },
  {
   "cell_type": "code",
   "execution_count": 51,
   "id": "51b3d84e",
   "metadata": {},
   "outputs": [],
   "source": [
    "from keras_preprocessing.image import load_img\n"
   ]
  },
  {
   "cell_type": "code",
   "execution_count": 102,
   "id": "38051b82",
   "metadata": {},
   "outputs": [],
   "source": [
    "# predicting images\n",
    "path='E:/projects/DFL-BundesligaDataShootout/dataset-20220903T082147Z-001/a.jpg'\n",
    "img=load_img(path, target_size=(224,224,3))\n",
    "\n",
    "x=image.img_to_array(img)\n",
    "x=np.expand_dims(x, axis=0)\n",
    "images = np.vstack([x])\n",
    "\n"
   ]
  },
  {
   "cell_type": "code",
   "execution_count": 103,
   "id": "f2e25902",
   "metadata": {},
   "outputs": [
    {
     "name": "stdout",
     "output_type": "stream",
     "text": [
      "1/1 [==============================] - 0s 67ms/step\n"
     ]
    }
   ],
   "source": [
    "cnn_classes = model.predict(x)"
   ]
  },
  {
   "cell_type": "code",
   "execution_count": 104,
   "id": "3ba5d312",
   "metadata": {},
   "outputs": [
    {
     "name": "stdout",
     "output_type": "stream",
     "text": [
      "[[5.2679457e-06 9.9999475e-01 4.1743536e-11]]\n"
     ]
    }
   ],
   "source": [
    "print(cnn_classes)"
   ]
  },
  {
   "cell_type": "code",
   "execution_count": 78,
   "id": "b90cdffd",
   "metadata": {},
   "outputs": [],
   "source": [
    "if int(cnn_classes[0][0])==1:\n",
    "    print(\"challenge\")\n",
    "elif int(cnn_classes[0][1])==1:\n",
    "    print(\"play\")\n",
    "elif int(cnn_classes[0][2])==1:\n",
    "    print(\"throwin\")"
   ]
  },
  {
   "cell_type": "markdown",
   "id": "2ffb9b6c",
   "metadata": {},
   "source": [
    "## VGG-16"
   ]
  },
  {
   "cell_type": "code",
   "execution_count": 84,
   "id": "1053493d",
   "metadata": {},
   "outputs": [
    {
     "name": "stdout",
     "output_type": "stream",
     "text": [
      "Downloading data from https://storage.googleapis.com/tensorflow/keras-applications/vgg16/vgg16_weights_tf_dim_ordering_tf_kernels_notop.h5\n",
      "58889256/58889256 [==============================] - 41s 1us/step\n"
     ]
    }
   ],
   "source": [
    "vgg = VGG16(input_shape=[224,224] + [3], weights='imagenet', include_top=False)\n"
   ]
  },
  {
   "cell_type": "code",
   "execution_count": 85,
   "id": "7185fa31",
   "metadata": {},
   "outputs": [],
   "source": [
    "for layer in vgg.layers:\n",
    "    layer.trainable = False"
   ]
  },
  {
   "cell_type": "code",
   "execution_count": 87,
   "id": "f22d5641",
   "metadata": {},
   "outputs": [],
   "source": [
    "folders = glob(f'{train_path}/*')\n",
    "x = tf.keras.layers.Flatten()(vgg.output)"
   ]
  },
  {
   "cell_type": "code",
   "execution_count": 89,
   "id": "570b79d3",
   "metadata": {},
   "outputs": [
    {
     "name": "stdout",
     "output_type": "stream",
     "text": [
      "Model: \"model\"\n",
      "_________________________________________________________________\n",
      " Layer (type)                Output Shape              Param #   \n",
      "=================================================================\n",
      " input_1 (InputLayer)        [(None, 224, 224, 3)]     0         \n",
      "                                                                 \n",
      " block1_conv1 (Conv2D)       (None, 224, 224, 64)      1792      \n",
      "                                                                 \n",
      " block1_conv2 (Conv2D)       (None, 224, 224, 64)      36928     \n",
      "                                                                 \n",
      " block1_pool (MaxPooling2D)  (None, 112, 112, 64)      0         \n",
      "                                                                 \n",
      " block2_conv1 (Conv2D)       (None, 112, 112, 128)     73856     \n",
      "                                                                 \n",
      " block2_conv2 (Conv2D)       (None, 112, 112, 128)     147584    \n",
      "                                                                 \n",
      " block2_pool (MaxPooling2D)  (None, 56, 56, 128)       0         \n",
      "                                                                 \n",
      " block3_conv1 (Conv2D)       (None, 56, 56, 256)       295168    \n",
      "                                                                 \n",
      " block3_conv2 (Conv2D)       (None, 56, 56, 256)       590080    \n",
      "                                                                 \n",
      " block3_conv3 (Conv2D)       (None, 56, 56, 256)       590080    \n",
      "                                                                 \n",
      " block3_pool (MaxPooling2D)  (None, 28, 28, 256)       0         \n",
      "                                                                 \n",
      " block4_conv1 (Conv2D)       (None, 28, 28, 512)       1180160   \n",
      "                                                                 \n",
      " block4_conv2 (Conv2D)       (None, 28, 28, 512)       2359808   \n",
      "                                                                 \n",
      " block4_conv3 (Conv2D)       (None, 28, 28, 512)       2359808   \n",
      "                                                                 \n",
      " block4_pool (MaxPooling2D)  (None, 14, 14, 512)       0         \n",
      "                                                                 \n",
      " block5_conv1 (Conv2D)       (None, 14, 14, 512)       2359808   \n",
      "                                                                 \n",
      " block5_conv2 (Conv2D)       (None, 14, 14, 512)       2359808   \n",
      "                                                                 \n",
      " block5_conv3 (Conv2D)       (None, 14, 14, 512)       2359808   \n",
      "                                                                 \n",
      " block5_pool (MaxPooling2D)  (None, 7, 7, 512)         0         \n",
      "                                                                 \n",
      " flatten_8 (Flatten)         (None, 25088)             0         \n",
      "                                                                 \n",
      " dense_24 (Dense)            (None, 3)                 75267     \n",
      "                                                                 \n",
      "=================================================================\n",
      "Total params: 14,789,955\n",
      "Trainable params: 75,267\n",
      "Non-trainable params: 14,714,688\n",
      "_________________________________________________________________\n"
     ]
    }
   ],
   "source": [
    "prediction = tf.keras.layers.Dense(len(folders), activation='softmax')(x)\n",
    "# create a model object\n",
    "VGG_model = Model(inputs=vgg.input, outputs=prediction)\n",
    "# view the structure of the model\n",
    "VGG_model.summary()"
   ]
  },
  {
   "cell_type": "code",
   "execution_count": 92,
   "id": "1ae2ee28",
   "metadata": {},
   "outputs": [],
   "source": [
    "VGG_model.compile(\n",
    "  loss='categorical_crossentropy',\n",
    "  optimizer='adam',\n",
    "  metrics=['accuracy']\n",
    ")"
   ]
  },
  {
   "cell_type": "code",
   "execution_count": 93,
   "id": "a7949688",
   "metadata": {},
   "outputs": [
    {
     "name": "stdout",
     "output_type": "stream",
     "text": [
      "Epoch 1/2\n",
      "35/35 [==============================] - 867s 25s/step - loss: 0.7904 - accuracy: 0.7840 - val_loss: 0.6573 - val_accuracy: 0.7841\n",
      "Epoch 2/2\n",
      "35/35 [==============================] - 942s 27s/step - loss: 0.6079 - accuracy: 0.8040 - val_loss: 0.6466 - val_accuracy: 0.8148\n"
     ]
    }
   ],
   "source": [
    "vgg_history_1 = VGG_model.fit(train_generator,\n",
    "                    epochs=2,\n",
    "                    verbose=1,\n",
    "                    validation_data=validation_generator,\n",
    "                    steps_per_epoch=len(train_generator),\n",
    "                    validation_steps=len(validation_generator))"
   ]
  },
  {
   "cell_type": "code",
   "execution_count": null,
   "id": "c12cd990",
   "metadata": {},
   "outputs": [],
   "source": []
  },
  {
   "cell_type": "code",
   "execution_count": 105,
   "id": "cc15c8e9",
   "metadata": {},
   "outputs": [
    {
     "name": "stdout",
     "output_type": "stream",
     "text": [
      "1/1 [==============================] - 0s 255ms/step\n"
     ]
    }
   ],
   "source": [
    "vgg_classes = VGG_model.predict(x)"
   ]
  },
  {
   "cell_type": "code",
   "execution_count": 106,
   "id": "e72c1924",
   "metadata": {},
   "outputs": [
    {
     "name": "stdout",
     "output_type": "stream",
     "text": [
      "[[3.0964243e-32 1.0000000e+00 0.0000000e+00]]\n"
     ]
    }
   ],
   "source": [
    "print(vgg_classes)"
   ]
  },
  {
   "cell_type": "code",
   "execution_count": 107,
   "id": "7439dda6",
   "metadata": {},
   "outputs": [
    {
     "name": "stdout",
     "output_type": "stream",
     "text": [
      "play\n"
     ]
    }
   ],
   "source": [
    "if int(vgg_classes[0][0])==1:\n",
    "    print(\"challenge\")\n",
    "elif int(vgg_classes[0][1])==1:\n",
    "    print(\"play\")\n",
    "elif int(vgg_classes[0][2])==1:\n",
    "    print(\"throwin\")"
   ]
  },
  {
   "cell_type": "code",
   "execution_count": null,
   "id": "616c2f23",
   "metadata": {},
   "outputs": [],
   "source": []
  }
 ],
 "metadata": {
  "kernelspec": {
   "display_name": "Python 3",
   "language": "python",
   "name": "python3"
  },
  "language_info": {
   "codemirror_mode": {
    "name": "ipython",
    "version": 3
   },
   "file_extension": ".py",
   "mimetype": "text/x-python",
   "name": "python",
   "nbconvert_exporter": "python",
   "pygments_lexer": "ipython3",
   "version": "3.8.8"
  }
 },
 "nbformat": 4,
 "nbformat_minor": 5
}
